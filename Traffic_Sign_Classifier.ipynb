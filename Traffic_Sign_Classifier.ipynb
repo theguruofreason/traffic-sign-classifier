{
 "cells": [
  {
   "cell_type": "markdown",
   "metadata": {
    "deletable": true,
    "editable": true
   },
   "source": [
    "# Self-Driving Car Engineer Nanodegree\n",
    "\n",
    "## Deep Learning\n",
    "\n",
    "## Project: Build a Traffic Sign Recognition Classifier\n",
    "\n",
    "In this notebook, a template is provided for you to implement your functionality in stages, which is required to successfully complete this project. If additional code is required that cannot be included in the notebook, be sure that the Python code is successfully imported and included in your submission if necessary. \n",
    "\n",
    "> **Note**: Once you have completed all of the code implementations, you need to finalize your work by exporting the iPython Notebook as an HTML document. Before exporting the notebook to html, all of the code cells need to have been run so that reviewers can see the final implementation and output. You can then export the notebook by using the menu above and navigating to  \\n\",\n",
    "    \"**File -> Download as -> HTML (.html)**. Include the finished document along with this notebook as your submission. \n",
    "\n",
    "In addition to implementing code, there is a writeup to complete. The writeup should be completed in a separate file, which can be either a markdown file or a pdf document. There is a [write up template](https://github.com/udacity/CarND-Traffic-Sign-Classifier-Project/blob/master/writeup_template.md) that can be used to guide the writing process. Completing the code template and writeup template will cover all of the [rubric points](https://review.udacity.com/#!/rubrics/481/view) for this project.\n",
    "\n",
    "The [rubric](https://review.udacity.com/#!/rubrics/481/view) contains \"Stand Out Suggestions\" for enhancing the project beyond the minimum requirements. The stand out suggestions are optional. If you decide to pursue the \"stand out suggestions\", you can include the code in this Ipython notebook and also discuss the results in the writeup file.\n",
    "\n",
    "\n",
    ">**Note:** Code and Markdown cells can be executed using the **Shift + Enter** keyboard shortcut. In addition, Markdown cells can be edited by typically double-clicking the cell to enter edit mode."
   ]
  },
  {
   "cell_type": "markdown",
   "metadata": {
    "deletable": true,
    "editable": true
   },
   "source": [
    "---\n",
    "## Step 0: Load The Data"
   ]
  },
  {
   "cell_type": "code",
   "execution_count": 37,
   "metadata": {
    "collapsed": false,
    "deletable": true,
    "editable": true
   },
   "outputs": [],
   "source": [
    "# Load pickled data\n",
    "import pickle\n",
    "\n",
    "# TODO: Fill this in based on where you saved the training and testing data\n",
    "\n",
    "training_file = './train.p'\n",
    "validation_file= './valid.p'\n",
    "testing_file = './test.p'\n",
    "\n",
    "with open(training_file, mode='rb') as f:\n",
    "    train = pickle.load(f)\n",
    "with open(validation_file, mode='rb') as f:\n",
    "    valid = pickle.load(f)\n",
    "with open(testing_file, mode='rb') as f:\n",
    "    test = pickle.load(f)\n",
    "    \n",
    "X_train, y_train = train['features'], train['labels']\n",
    "X_valid, y_valid = valid['features'], valid['labels']\n",
    "X_test, y_test = test['features'], test['labels']"
   ]
  },
  {
   "cell_type": "markdown",
   "metadata": {
    "deletable": true,
    "editable": true
   },
   "source": [
    "---\n",
    "\n",
    "## Step 1: Dataset Summary & Exploration\n",
    "\n",
    "The pickled data is a dictionary with 4 key/value pairs:\n",
    "\n",
    "- `'features'` is a 4D array containing raw pixel data of the traffic sign images, (num examples, width, height, channels).\n",
    "- `'labels'` is a 1D array containing the label/class id of the traffic sign. The file `signnames.csv` contains id -> name mappings for each id.\n",
    "- `'sizes'` is a list containing tuples, (width, height) representing the original width and height the image.\n",
    "- `'coords'` is a list containing tuples, (x1, y1, x2, y2) representing coordinates of a bounding box around the sign in the image. **THESE COORDINATES ASSUME THE ORIGINAL IMAGE. THE PICKLED DATA CONTAINS RESIZED VERSIONS (32 by 32) OF THESE IMAGES**\n",
    "\n",
    "Complete the basic data summary below. Use python, numpy and/or pandas methods to calculate the data summary rather than hard coding the results. For example, the [pandas shape method](http://pandas.pydata.org/pandas-docs/stable/generated/pandas.DataFrame.shape.html) might be useful for calculating some of the summary results. "
   ]
  },
  {
   "cell_type": "markdown",
   "metadata": {
    "deletable": true,
    "editable": true
   },
   "source": [
    "### Provide a Basic Summary of the Data Set Using Python, Numpy and/or Pandas"
   ]
  },
  {
   "cell_type": "code",
   "execution_count": 38,
   "metadata": {
    "collapsed": false,
    "deletable": true,
    "editable": true
   },
   "outputs": [
    {
     "name": "stdout",
     "output_type": "stream",
     "text": [
      "Number of training examples = 34799\n",
      "Number of testing examples = 12630\n",
      "Image data shape = (32, 32, 3)\n",
      "Number of classes = 43\n"
     ]
    }
   ],
   "source": [
    "### Replace each question mark with the appropriate value. \n",
    "### Use python, pandas or numpy methods rather than hard coding the results\n",
    "import numpy as np\n",
    "\n",
    "# TODO: Number of training examples\n",
    "n_train = len(X_train)\n",
    "\n",
    "# TODO: Number of testing examples.\n",
    "n_test = len(X_test)\n",
    "\n",
    "# TODO: What's the shape of a traffic sign image?\n",
    "image_shape = np.shape(X_train[0])\n",
    "\n",
    "# TODO: How many unique classes/labels there are in the dataset.\n",
    "n_classes = len(list(dict.fromkeys(y_train)))\n",
    "\n",
    "print(\"Number of training examples =\", n_train)\n",
    "print(\"Number of testing examples =\", n_test)\n",
    "print(\"Image data shape =\", image_shape)\n",
    "print(\"Number of classes =\", n_classes)"
   ]
  },
  {
   "cell_type": "markdown",
   "metadata": {
    "deletable": true,
    "editable": true
   },
   "source": [
    "### Include an exploratory visualization of the dataset"
   ]
  },
  {
   "cell_type": "markdown",
   "metadata": {
    "deletable": true,
    "editable": true
   },
   "source": [
    "Visualize the German Traffic Signs Dataset using the pickled file(s). This is open ended, suggestions include: plotting traffic sign images, plotting the count of each sign, etc.\n",
    "\n",
    "The [Matplotlib](http://matplotlib.org/) [examples](http://matplotlib.org/examples/index.html) and [gallery](http://matplotlib.org/gallery.html) pages are a great resource for doing visualizations in Python.\n",
    "\n",
    "**NOTE:** It's recommended you start with something simple first. If you wish to do more, come back to it after you've completed the rest of the sections."
   ]
  },
  {
   "cell_type": "code",
   "execution_count": 39,
   "metadata": {
    "collapsed": false,
    "deletable": true,
    "editable": true
   },
   "outputs": [
    {
     "name": "stdout",
     "output_type": "stream",
     "text": [
      "1\n"
     ]
    },
    {
     "data": {
      "image/png": "[encoded data removed]",
      "text/plain": [
       "<matplotlib.figure.Figure at 0x2490dcb3940>"
      ]
     },
     "metadata": {},
     "output_type": "display_data"
    }
   ],
   "source": [
    "### Data exploration visualization code goes here.\n",
    "### Feel free to use as many code cells as needed.\n",
    "import matplotlib.pyplot as plt\n",
    "import random\n",
    "# Visualizations will be shown in the notebook.\n",
    "%matplotlib inline\n",
    "\n",
    "index = random.randint(0, len(X_train[:6000]))\n",
    "image = X_train[index].squeeze()\n",
    "\n",
    "plt.figure(figsize=(2,2))\n",
    "plt.imshow(image)\n",
    "print(y_train[index])"
   ]
  },
  {
   "cell_type": "markdown",
   "metadata": {
    "deletable": true,
    "editable": true
   },
   "source": [
    "----\n",
    "\n",
    "## Step 2: Design and Test a Model Architecture\n",
    "\n",
    "Design and implement a deep learning model that learns to recognize traffic signs. Train and test your model on the [German Traffic Sign Dataset](http://benchmark.ini.rub.de/?section=gtsrb&subsection=dataset).\n",
    "\n",
    "The LeNet-5 implementation shown in the [classroom](https://classroom.udacity.com/nanodegrees/nd013/parts/fbf77062-5703-404e-b60c-95b78b2f3f9e/modules/6df7ae49-c61c-4bb2-a23e-6527e69209ec/lessons/601ae704-1035-4287-8b11-e2c2716217ad/concepts/d4aca031-508f-4e0b-b493-e7b706120f81) at the end of the CNN lesson is a solid starting point. You'll have to change the number of classes and possibly the preprocessing, but aside from that it's plug and play! \n",
    "\n",
    "With the LeNet-5 solution from the lecture, you should expect a validation set accuracy of about 0.89. To meet specifications, the validation set accuracy will need to be at least 0.93. It is possible to get an even higher accuracy, but 0.93 is the minimum for a successful project submission. \n",
    "\n",
    "There are various aspects to consider when thinking about this problem:\n",
    "\n",
    "- Neural network architecture (is the network over or underfitting?)\n",
    "- Play around preprocessing techniques (normalization, rgb to grayscale, etc)\n",
    "- Number of examples per label (some have more than others).\n",
    "- Generate fake data.\n",
    "\n",
    "Here is an example of a [published baseline model on this problem](http://yann.lecun.com/exdb/publis/pdf/sermanet-ijcnn-11.pdf). It's not required to be familiar with the approach used in the paper but, it's good practice to try to read papers like these."
   ]
  },
  {
   "cell_type": "markdown",
   "metadata": {
    "deletable": true,
    "editable": true
   },
   "source": [
    "### Pre-process the Data Set (normalization, grayscale, etc.)"
   ]
  },
  {
   "cell_type": "markdown",
   "metadata": {
    "deletable": true,
    "editable": true
   },
   "source": [
    "Use the code cell (or multiple code cells, if necessary) to implement the first step of your project."
   ]
  },
  {
   "cell_type": "code",
   "execution_count": 40,
   "metadata": {
    "collapsed": false,
    "deletable": true,
    "editable": true
   },
   "outputs": [],
   "source": [
    "### Preprocess the data here. Preprocessing steps could include normalization, converting to grayscale, etc.\n",
    "### Feel free to use as many code cells as needed.\n",
    "import cv2\n",
    "\n",
    "def normalize(image):\n",
    "    \n",
    "    normalized = np.zeros(shape = image.shape, dtype=np.float32)\n",
    "    cv2.normalize(image, normalized, alpha=-.5, beta=.5, norm_type=cv2.NORM_MINMAX, dtype=cv2.CV_32F)\n",
    "    \n",
    "        # Add back the 3rd dimension\n",
    "#    if len(normalized.shape) < 3:\n",
    "#        normalized = np.expand_dims(normalized, axis = 2)\n",
    "    \n",
    "    return normalized\n",
    "\n",
    "# normalize image data\n",
    "X_train_normalized = []\n",
    "X_valid_normalized = []\n",
    "X_test_normalized  = []\n",
    "\n",
    "for i in range(n_train):\n",
    "    X_train_normalized.append(normalize(X_train[i]))\n",
    "    \n",
    "for i in range(len(X_valid)):\n",
    "    X_valid_normalized.append(normalize(X_valid[i]))\n",
    "    \n",
    "for i in range(len(X_test)):\n",
    "    X_test_normalized.append(normalize(X_test[i]))\n",
    "\n",
    "X_train_normalized = np.asarray(X_train_normalized, dtype=np.float32)\n",
    "X_valid_normalized = np.asarray(X_valid_normalized, dtype=np.float32)\n",
    "X_test_normalized = np.asarray(X_test_normalized, dtype=np.float32)"
   ]
  },
  {
   "cell_type": "code",
   "execution_count": 41,
   "metadata": {
    "collapsed": false,
    "deletable": true,
    "editable": true,
    "scrolled": true
   },
   "outputs": [
    {
     "name": "stdout",
     "output_type": "stream",
     "text": [
      "[[[-0.29661018 -0.33050847 -0.39406779]\n",
      "  [-0.30084744 -0.32627118 -0.39406779]\n",
      "  [-0.29237288 -0.30932203 -0.37288135]\n",
      "  ..., \n",
      "  [-0.29237288 -0.35169491 -0.36016947]\n",
      "  [-0.29237288 -0.37288135 -0.38559324]\n",
      "  [-0.25847456 -0.34745762 -0.36440676]]\n",
      "\n",
      " [[-0.31355932 -0.36016947 -0.40677965]\n",
      "  [-0.29237288 -0.33050847 -0.38135594]\n",
      "  [-0.30508474 -0.31779662 -0.37711865]\n",
      "  ..., \n",
      "  [-0.25847456 -0.33050847 -0.34745762]\n",
      "  [-0.29661018 -0.36864406 -0.38135594]\n",
      "  [-0.27542374 -0.34745762 -0.36440676]]\n",
      "\n",
      " [[-0.20762712 -0.29661018 -0.31779662]\n",
      "  [-0.23305085 -0.30508474 -0.33898306]\n",
      "  [-0.29661018 -0.34322035 -0.37711865]\n",
      "  ..., \n",
      "  [-0.32203388 -0.38559324 -0.41101694]\n",
      "  [-0.32627118 -0.38559324 -0.39406779]\n",
      "  [-0.30084744 -0.35593221 -0.36864406]]\n",
      "\n",
      " ..., \n",
      " [[-0.30932203 -0.33050847 -0.32627118]\n",
      "  [-0.15677965 -0.22457626 -0.23728812]\n",
      "  [-0.16525424 -0.23305085 -0.279661  ]\n",
      "  ..., \n",
      "  [-0.21610168 -0.29661018 -0.35593221]\n",
      "  [-0.23728812 -0.34745762 -0.38559324]\n",
      "  [-0.31355932 -0.34322035 -0.38559324]]\n",
      "\n",
      " [[-0.30084744 -0.33474576 -0.35593221]\n",
      "  [-0.19067797 -0.23728812 -0.25847456]\n",
      "  [-0.25847456 -0.29661018 -0.33050847]\n",
      "  ..., \n",
      "  [-0.20338982 -0.31779662 -0.34745762]\n",
      "  [-0.13559321 -0.30508474 -0.35593221]\n",
      "  [-0.19915253 -0.33050847 -0.40677965]]\n",
      "\n",
      " [[-0.30084744 -0.34322035 -0.36864406]\n",
      "  [-0.14406779 -0.22881356 -0.25      ]\n",
      "  [-0.18644068 -0.26271185 -0.28389829]\n",
      "  ..., \n",
      "  [-0.21610168 -0.33050847 -0.31779662]\n",
      "  [-0.15254238 -0.29661018 -0.32203388]\n",
      "  [-0.1101695  -0.27542374 -0.34745762]]]\n",
      "1\n",
      "[[[-0.29661018 -0.33050847 -0.39406779]\n",
      "  [-0.30084744 -0.32627118 -0.39406779]\n",
      "  [-0.29237288 -0.30932203 -0.37288135]\n",
      "  ..., \n",
      "  [-0.29237288 -0.35169491 -0.36016947]\n",
      "  [-0.29237288 -0.37288135 -0.38559324]\n",
      "  [-0.25847456 -0.34745762 -0.36440676]]\n",
      "\n",
      " [[-0.31355932 -0.36016947 -0.40677965]\n",
      "  [-0.29237288 -0.33050847 -0.38135594]\n",
      "  [-0.30508474 -0.31779662 -0.37711865]\n",
      "  ..., \n",
      "  [-0.25847456 -0.33050847 -0.34745762]\n",
      "  [-0.29661018 -0.36864406 -0.38135594]\n",
      "  [-0.27542374 -0.34745762 -0.36440676]]\n",
      "\n",
      " [[-0.20762712 -0.29661018 -0.31779662]\n",
      "  [-0.23305085 -0.30508474 -0.33898306]\n",
      "  [-0.29661018 -0.34322035 -0.37711865]\n",
      "  ..., \n",
      "  [-0.32203388 -0.38559324 -0.41101694]\n",
      "  [-0.32627118 -0.38559324 -0.39406779]\n",
      "  [-0.30084744 -0.35593221 -0.36864406]]\n",
      "\n",
      " ..., \n",
      " [[-0.30932203 -0.33050847 -0.32627118]\n",
      "  [-0.15677965 -0.22457626 -0.23728812]\n",
      "  [-0.16525424 -0.23305085 -0.279661  ]\n",
      "  ..., \n",
      "  [-0.21610168 -0.29661018 -0.35593221]\n",
      "  [-0.23728812 -0.34745762 -0.38559324]\n",
      "  [-0.31355932 -0.34322035 -0.38559324]]\n",
      "\n",
      " [[-0.30084744 -0.33474576 -0.35593221]\n",
      "  [-0.19067797 -0.23728812 -0.25847456]\n",
      "  [-0.25847456 -0.29661018 -0.33050847]\n",
      "  ..., \n",
      "  [-0.20338982 -0.31779662 -0.34745762]\n",
      "  [-0.13559321 -0.30508474 -0.35593221]\n",
      "  [-0.19915253 -0.33050847 -0.40677965]]\n",
      "\n",
      " [[-0.30084744 -0.34322035 -0.36864406]\n",
      "  [-0.14406779 -0.22881356 -0.25      ]\n",
      "  [-0.18644068 -0.26271185 -0.28389829]\n",
      "  ..., \n",
      "  [-0.21610168 -0.33050847 -0.31779662]\n",
      "  [-0.15254238 -0.29661018 -0.32203388]\n",
      "  [-0.1101695  -0.27542374 -0.34745762]]]\n",
      "(32, 32, 3)\n"
     ]
    },
    {
     "data": {
      "image/png": "[encoded data removed]",
      "text/plain": [
       "<matplotlib.figure.Figure at 0x2490435b710>"
      ]
     },
     "metadata": {},
     "output_type": "display_data"
    }
   ],
   "source": [
    "# display image data and image\n",
    "%matplotlib inline\n",
    "\n",
    "image = X_train_normalized[index].squeeze()\n",
    "\n",
    "print(image)\n",
    "\n",
    "plt.figure(figsize = (2,2))\n",
    "plt.imshow(image)\n",
    "print(y_train[index])\n",
    "print(image)\n",
    "print(np.shape(image))"
   ]
  },
  {
   "cell_type": "markdown",
   "metadata": {
    "deletable": true,
    "editable": true
   },
   "source": [
    "### Model Architecture"
   ]
  },
  {
   "cell_type": "code",
   "execution_count": 42,
   "metadata": {
    "collapsed": false,
    "deletable": true,
    "editable": true
   },
   "outputs": [],
   "source": [
    "import tensorflow as tf\n",
    "from tensorflow.contrib.layers import flatten\n",
    "\n",
    "EPOCHS = 12\n",
    "BATCH_SIZE = 200"
   ]
  },
  {
   "cell_type": "code",
   "execution_count": 49,
   "metadata": {
    "collapsed": false,
    "deletable": true,
    "editable": true
   },
   "outputs": [],
   "source": [
    "def network(x):\n",
    "\n",
    "    # hyperparameters\n",
    "    mu = 0\n",
    "    sigma = 0.1\n",
    "    \n",
    "    print('initial shape:', np.shape(x))\n",
    "    \n",
    "    # first convolutional\n",
    "    conv_1_W = tf.Variable(tf.truncated_normal(shape = (5,5,3,6), mean = mu, stddev = sigma))\n",
    "    conv_1_b = tf.Variable(tf.zeros(6))\n",
    "    conv_1   = tf.nn.conv2d(x, conv_1_W, strides = [1,1,1,1], padding = 'VALID') + conv_1_b\n",
    "    print('after convolution 1:', np.shape(conv_1))\n",
    "    \n",
    "    # activation\n",
    "    conv_1 = tf.nn.relu(conv_1)\n",
    "    print('after activation 1:', np.shape(conv_1))\n",
    "    \n",
    "    # pooling\n",
    "    conv_1 = tf.nn.max_pool(conv_1, ksize = [1,2,2,1], strides = [1,2,2,1], padding = 'VALID')\n",
    "    print('after pooling 1:', np.shape(conv_1))\n",
    "    \n",
    "    # second convolutional\n",
    "    conv_2_W = tf.Variable(tf.truncated_normal(shape = (5,5,6,16), mean = mu, stddev = sigma))\n",
    "    conv_2_b = tf.Variable(tf.zeros(16))\n",
    "    conv_2   = tf.nn.conv2d(conv_1, conv_2_W, strides = [1,1,1,1], padding = 'VALID') + conv_2_b\n",
    "    print('after convolution 2:', np.shape(conv_2))\n",
    "    \n",
    "    # Activation\n",
    "    conv_2 = tf.nn.relu(conv_2)\n",
    "    print('after activation 2:', np.shape(conv_2))\n",
    "    \n",
    "    # pooling\n",
    "    conv_2 = tf.nn.max_pool(conv_2, ksize = [1,2,2,1], strides = [1,2,2,1], padding = 'VALID')\n",
    "    print('after pooling 2:', np.shape(conv_2))\n",
    "    \n",
    "    # flatten\n",
    "    fc_0 = flatten(conv_2)\n",
    "    print('after flatten:', np.shape(fc_0))\n",
    "    \n",
    "    # fully connected (layer 3)\n",
    "    fc_1_W = tf.Variable(tf.truncated_normal(shape = (400, 120), mean = mu, stddev = sigma))\n",
    "    fc_1_b = tf.Variable(tf.zeros(120))\n",
    "    fc_1 = tf.matmul(fc_0, fc_1_W) + fc_1_b\n",
    "    print('after fc_1:', np.shape(fc_1))\n",
    "    \n",
    "    # activation\n",
    "    fc_1 = tf.nn.relu(fc_1)\n",
    "    print('after fc_1 activation:', np.shape(fc_1))\n",
    "    \n",
    "    # dropout\n",
    "    fc_1_drop = tf.nn.dropout(fc_1, keep_prob)\n",
    "    \n",
    "    # fully connected (layer 4)\n",
    "    fc_2_W = tf.Variable(tf.truncated_normal(shape = (120, 84), mean = mu, stddev = sigma))\n",
    "    fc_2_b = tf.Variable(tf.zeros(84))\n",
    "    fc_2 = tf.matmul(fc_1_drop, fc_2_W) + fc_2_b\n",
    "    print('after fc_2:', np.shape(fc_2))\n",
    "    \n",
    "    # activation\n",
    "    fc_2 = tf.nn.relu(fc_2)\n",
    "    print('after fc_2 activation:', np.shape(fc_2))\n",
    "    \n",
    "    # fully connected (layer 5)\n",
    "    fc_3_W = tf.Variable(tf.truncated_normal(shape = (84, 43), mean = mu, stddev = sigma))\n",
    "    fc_3_b = tf.Variable(tf.zeros(43))\n",
    "    logits = tf.matmul(fc_2, fc_3_W) + fc_3_b\n",
    "    print('after fc_3:', np.shape(logits))\n",
    "    \n",
    "    return logits"
   ]
  },
  {
   "cell_type": "markdown",
   "metadata": {
    "deletable": true,
    "editable": true
   },
   "source": [
    "### Train, Validate and Test the Model"
   ]
  },
  {
   "cell_type": "markdown",
   "metadata": {
    "deletable": true,
    "editable": true
   },
   "source": [
    "A validation set can be used to assess how well the model is performing. A low accuracy on the training and validation\n",
    "sets imply underfitting. A high accuracy on the training set but low accuracy on the validation set implies overfitting."
   ]
  },
  {
   "cell_type": "code",
   "execution_count": 50,
   "metadata": {
    "collapsed": false,
    "deletable": true,
    "editable": true
   },
   "outputs": [],
   "source": [
    "### Train your model here.\n",
    "### Calculate and report the accuracy on the training and validation set.\n",
    "### Once a final model architecture is selected, \n",
    "### the accuracy on the test set should be calculated and reported as well.\n",
    "### Feel free to use as many code cells as needed.\n",
    "\n",
    "x = tf.placeholder(tf.float32, (None, 32, 32, 3))\n",
    "y = tf.placeholder(tf.int32, (None))\n",
    "one_hot_y = tf.one_hot(y, 43)\n",
    "keep_prob = tf.placeholder(tf.float32)"
   ]
  },
  {
   "cell_type": "code",
   "execution_count": 51,
   "metadata": {
    "collapsed": false,
    "deletable": true,
    "editable": true
   },
   "outputs": [
    {
     "name": "stdout",
     "output_type": "stream",
     "text": [
      "initial shape: (?, 32, 32, 3)\n",
      "after convolution 1: (?, 28, 28, 6)\n",
      "after activation 1: (?, 28, 28, 6)\n",
      "after pooling 1: (?, 14, 14, 6)\n",
      "after convolution 2: (?, 10, 10, 16)\n",
      "after activation 2: (?, 10, 10, 16)\n",
      "after pooling 2: (?, 5, 5, 16)\n",
      "after flatten: (?, 400)\n",
      "after fc_1: (?, 120)\n",
      "after fc_1 activation: (?, 120)\n",
      "after fc_2: (?, 84)\n",
      "after fc_2 activation: (?, 84)\n",
      "after fc_3: (?, 43)\n"
     ]
    }
   ],
   "source": [
    "rate = .001\n",
    "\n",
    "logits = network(x)\n",
    "cross_entropy = tf.nn.softmax_cross_entropy_with_logits(logits = logits, labels = one_hot_y)\n",
    "loss_operation = tf.reduce_mean(cross_entropy)\n",
    "optimizer = tf.train.AdamOptimizer(rate)\n",
    "training_operation = optimizer.minimize(loss_operation)"
   ]
  },
  {
   "cell_type": "code",
   "execution_count": 55,
   "metadata": {
    "collapsed": false,
    "deletable": true,
    "editable": true
   },
   "outputs": [],
   "source": [
    "# set up accuracy calculations\n",
    "\n",
    "correct_prediction = tf.equal(tf.argmax(logits, 1), tf.argmax(one_hot_y, 1))\n",
    "accuracy_operation = tf.reduce_mean(tf.cast(correct_prediction, tf.float32))\n",
    "\n",
    "'''\n",
    "def evaluate(X_data, y_data):\n",
    "    \n",
    "    num_examples = len(X_data)\n",
    "    total_accuracy = 0\n",
    "    sess = tf.get_default_session()\n",
    "    \n",
    "    for offset in range(0, num_examples , BATCH_SIZE):\n",
    "        batch_x, batch_y = X_data[offset : offset + BATCH_SIZE], y_data[offset : offset + BATCH_SIZE]\n",
    "        accuracy = sess.run(accuracy_operation, feed_dict = {x: batch_x, y: batch_y})\n",
    "        total_accuracy += (accuracy * len(batch_x))\n",
    "    \n",
    "#    print('total_accuracy', total_accuracy)\n",
    "#    print('num_examples:', num_examples)\n",
    "    \n",
    "    return total_accuracy / num_examples\n",
    "'''\n",
    "\n",
    "def evaluate(X_data, y_data):\n",
    "\n",
    "    num_examples = len(X_data)\n",
    "    total_accuracy = 0\n",
    "    total_loss = 0\n",
    "    sess = tf.get_default_session()\n",
    "\n",
    "    for offset in range(0, num_examples , BATCH_SIZE):\n",
    "        batch_x, batch_y = X_data[offset : offset + BATCH_SIZE], y_data[offset : offset + BATCH_SIZE]\n",
    "        loss, accuracy = sess.run([loss_operation, accuracy_operation], feed_dict={x: batch_x, y: batch_y, keep_prob: 1.0})\n",
    "        total_accuracy += (accuracy * len(batch_x))\n",
    "        total_loss += (loss * len(batch_x))\n",
    "    return total_loss/num_examples, total_accuracy/num_examples"
   ]
  },
  {
   "cell_type": "code",
   "execution_count": 56,
   "metadata": {
    "collapsed": false,
    "deletable": true,
    "editable": true
   },
   "outputs": [
    {
     "name": "stdout",
     "output_type": "stream",
     "text": [
      "Training...\n",
      "\n",
      "Epoch 1 ...\n",
      "loss = 0.716296137121\n",
      "Train Accuracy = 0.804\n",
      "Validation Accuracy = 0.747\n",
      "\n",
      "Epoch 2 ...\n",
      "loss = 0.291623542232\n",
      "Train Accuracy = 0.930\n",
      "Validation Accuracy = 0.852\n",
      "\n",
      "Epoch 3 ...\n",
      "loss = 0.178741913332\n",
      "Train Accuracy = 0.953\n",
      "Validation Accuracy = 0.880\n",
      "\n",
      "Epoch 4 ...\n",
      "loss = 0.123357263459\n",
      "Train Accuracy = 0.971\n",
      "Validation Accuracy = 0.910\n",
      "\n",
      "Epoch 5 ...\n",
      "loss = 0.0844851543346\n",
      "Train Accuracy = 0.980\n",
      "Validation Accuracy = 0.924\n",
      "\n",
      "Epoch 6 ...\n",
      "loss = 0.0682393840748\n",
      "Train Accuracy = 0.983\n",
      "Validation Accuracy = 0.919\n",
      "\n",
      "Epoch 7 ...\n",
      "loss = 0.0516269269573\n",
      "Train Accuracy = 0.988\n",
      "Validation Accuracy = 0.925\n",
      "\n",
      "Epoch 8 ...\n",
      "loss = 0.0451018014519\n",
      "Train Accuracy = 0.989\n",
      "Validation Accuracy = 0.934\n",
      "\n",
      "Epoch 9 ...\n",
      "loss = 0.0320706068566\n",
      "Train Accuracy = 0.993\n",
      "Validation Accuracy = 0.932\n",
      "\n",
      "Epoch 10 ...\n",
      "loss = 0.0309762027878\n",
      "Train Accuracy = 0.992\n",
      "Validation Accuracy = 0.943\n",
      "\n",
      "Epoch 11 ...\n",
      "loss = 0.0277449758779\n",
      "Train Accuracy = 0.994\n",
      "Validation Accuracy = 0.941\n",
      "\n",
      "Epoch 12 ...\n",
      "loss = 0.0195747582481\n",
      "Train Accuracy = 0.996\n",
      "Validation Accuracy = 0.943\n",
      "\n",
      "Model saved!\n"
     ]
    }
   ],
   "source": [
    "from sklearn.utils import shuffle\n",
    "# train the model\n",
    "\n",
    "with tf.Session() as sess:\n",
    "    sess.run(tf.global_variables_initializer())\n",
    "    num_examples = n_train\n",
    "    \n",
    "    print(\"Training...\")\n",
    "    print()\n",
    "    for i in range(EPOCHS):\n",
    "        X_train_normalized, y_train = shuffle(X_train_normalized, y_train)\n",
    "        for offset in range(0, num_examples , BATCH_SIZE):\n",
    "            batch_x, batch_y = X_train_normalized[offset : offset + BATCH_SIZE], y_train[offset : offset + BATCH_SIZE]\n",
    "            sess.run(training_operation, feed_dict={x: batch_x, y: batch_y, keep_prob: 0.7})\n",
    "        train_loss, train_accuracy = evaluate(X_train_normalized, y_train)\n",
    "        validation_loss, validation_accuracy = evaluate(X_valid_normalized, y_valid)\n",
    "        print(\"Epoch {} ...\".format(i + 1))\n",
    "        print(\"loss =\", train_loss)\n",
    "        print(\"Train Accuracy = {:.3f}\".format(train_accuracy))\n",
    "        print(\"Validation Accuracy = {:.3f}\".format(validation_accuracy))\n",
    "        print()\n",
    "        \n",
    "    try:\n",
    "        saver\n",
    "    except NameError:\n",
    "        saver = tf.train.Saver()\n",
    "    saver.save(sess, './lenet')\n",
    "    print(\"Model saved!\")"
   ]
  },
  {
   "cell_type": "markdown",
   "metadata": {
    "deletable": true,
    "editable": true
   },
   "source": [
    "---\n",
    "\n",
    "## Step 3: Test a Model on New Images\n",
    "\n",
    "To give yourself more insight into how your model is working, download at least five pictures of German traffic signs from the web and use your model to predict the traffic sign type.\n",
    "\n",
    "You may find `signnames.csv` useful as it contains mappings from the class id (integer) to the actual sign name."
   ]
  },
  {
   "cell_type": "markdown",
   "metadata": {
    "deletable": true,
    "editable": true
   },
   "source": [
    "### Load and Output the Images"
   ]
  },
  {
   "cell_type": "code",
   "execution_count": null,
   "metadata": {
    "collapsed": true,
    "deletable": true,
    "editable": true
   },
   "outputs": [],
   "source": [
    "### Load the images and plot them here.\n",
    "### Feel free to use as many code cells as needed."
   ]
  },
  {
   "cell_type": "markdown",
   "metadata": {
    "deletable": true,
    "editable": true
   },
   "source": [
    "### Predict the Sign Type for Each Image"
   ]
  },
  {
   "cell_type": "code",
   "execution_count": null,
   "metadata": {
    "collapsed": true,
    "deletable": true,
    "editable": true
   },
   "outputs": [],
   "source": [
    "### Run the predictions here and use the model to output the prediction for each image.\n",
    "### Make sure to pre-process the images with the same pre-processing pipeline used earlier.\n",
    "### Feel free to use as many code cells as needed."
   ]
  },
  {
   "cell_type": "markdown",
   "metadata": {
    "deletable": true,
    "editable": true
   },
   "source": [
    "### Analyze Performance"
   ]
  },
  {
   "cell_type": "code",
   "execution_count": null,
   "metadata": {
    "collapsed": true,
    "deletable": true,
    "editable": true
   },
   "outputs": [],
   "source": [
    "### Calculate the accuracy for these 5 new images. \n",
    "### For example, if the model predicted 1 out of 5 signs correctly, it's 20% accurate on these new images."
   ]
  },
  {
   "cell_type": "markdown",
   "metadata": {
    "deletable": true,
    "editable": true
   },
   "source": [
    "### Output Top 5 Softmax Probabilities For Each Image Found on the Web"
   ]
  },
  {
   "cell_type": "markdown",
   "metadata": {
    "deletable": true,
    "editable": true
   },
   "source": [
    "For each of the new images, print out the model's softmax probabilities to show the **certainty** of the model's predictions (limit the output to the top 5 probabilities for each image). [`tf.nn.top_k`](https://www.tensorflow.org/versions/r0.12/api_docs/python/nn.html#top_k) could prove helpful here. \n",
    "\n",
    "The example below demonstrates how tf.nn.top_k can be used to find the top k predictions for each image.\n",
    "\n",
    "`tf.nn.top_k` will return the values and indices (class ids) of the top k predictions. So if k=3, for each sign, it'll return the 3 largest probabilities (out of a possible 43) and the correspoding class ids.\n",
    "\n",
    "Take this numpy array as an example. The values in the array represent predictions. The array contains softmax probabilities for five candidate images with six possible classes. `tk.nn.top_k` is used to choose the three classes with the highest probability:\n",
    "\n",
    "```\n",
    "# (5, 6) array\n",
    "a = np.array([[ 0.24879643,  0.07032244,  0.12641572,  0.34763842,  0.07893497,\n",
    "         0.12789202],\n",
    "       [ 0.28086119,  0.27569815,  0.08594638,  0.0178669 ,  0.18063401,\n",
    "         0.15899337],\n",
    "       [ 0.26076848,  0.23664738,  0.08020603,  0.07001922,  0.1134371 ,\n",
    "         0.23892179],\n",
    "       [ 0.11943333,  0.29198961,  0.02605103,  0.26234032,  0.1351348 ,\n",
    "         0.16505091],\n",
    "       [ 0.09561176,  0.34396535,  0.0643941 ,  0.16240774,  0.24206137,\n",
    "         0.09155967]])\n",
    "```\n",
    "\n",
    "Running it through `sess.run(tf.nn.top_k(tf.constant(a), k=3))` produces:\n",
    "\n",
    "```\n",
    "TopKV2(values=array([[ 0.34763842,  0.24879643,  0.12789202],\n",
    "       [ 0.28086119,  0.27569815,  0.18063401],\n",
    "       [ 0.26076848,  0.23892179,  0.23664738],\n",
    "       [ 0.29198961,  0.26234032,  0.16505091],\n",
    "       [ 0.34396535,  0.24206137,  0.16240774]]), indices=array([[3, 0, 5],\n",
    "       [0, 1, 4],\n",
    "       [0, 5, 1],\n",
    "       [1, 3, 5],\n",
    "       [1, 4, 3]], dtype=int32))\n",
    "```\n",
    "\n",
    "Looking just at the first row we get `[ 0.34763842,  0.24879643,  0.12789202]`, you can confirm these are the 3 largest probabilities in `a`. You'll also notice `[3, 0, 5]` are the corresponding indices."
   ]
  },
  {
   "cell_type": "code",
   "execution_count": null,
   "metadata": {
    "collapsed": true,
    "deletable": true,
    "editable": true
   },
   "outputs": [],
   "source": [
    "### Print out the top five softmax probabilities for the predictions on the German traffic sign images found on the web. \n",
    "### Feel free to use as many code cells as needed."
   ]
  },
  {
   "cell_type": "markdown",
   "metadata": {
    "deletable": true,
    "editable": true
   },
   "source": [
    "---\n",
    "\n",
    "## Step 4: Visualize the Neural Network's State with Test Images\n",
    "\n",
    " This Section is not required to complete but acts as an additional excersise for understaning the output of a neural network's weights. While neural networks can be a great learning device they are often referred to as a black box. We can understand what the weights of a neural network look like better by plotting their feature maps. After successfully training your neural network you can see what it's feature maps look like by plotting the output of the network's weight layers in response to a test stimuli image. From these plotted feature maps, it's possible to see what characteristics of an image the network finds interesting. For a sign, maybe the inner network feature maps react with high activation to the sign's boundary outline or to the contrast in the sign's painted symbol.\n",
    "\n",
    " Provided for you below is the function code that allows you to get the visualization output of any tensorflow weight layer you want. The inputs to the function should be a stimuli image, one used during training or a new one you provided, and then the tensorflow variable name that represents the layer's state during the training process, for instance if you wanted to see what the [LeNet lab's](https://classroom.udacity.com/nanodegrees/nd013/parts/fbf77062-5703-404e-b60c-95b78b2f3f9e/modules/6df7ae49-c61c-4bb2-a23e-6527e69209ec/lessons/601ae704-1035-4287-8b11-e2c2716217ad/concepts/d4aca031-508f-4e0b-b493-e7b706120f81) feature maps looked like for it's second convolutional layer you could enter conv2 as the tf_activation variable.\n",
    "\n",
    "For an example of what feature map outputs look like, check out NVIDIA's results in their paper [End-to-End Deep Learning for Self-Driving Cars](https://devblogs.nvidia.com/parallelforall/deep-learning-self-driving-cars/) in the section Visualization of internal CNN State. NVIDIA was able to show that their network's inner weights had high activations to road boundary lines by comparing feature maps from an image with a clear path to one without. Try experimenting with a similar test to show that your trained network's weights are looking for interesting features, whether it's looking at differences in feature maps from images with or without a sign, or even what feature maps look like in a trained network vs a completely untrained one on the same sign image.\n",
    "\n",
    "<figure>\n",
    " <img src=\"visualize_cnn.png\" width=\"380\" alt=\"Combined Image\" />\n",
    " <figcaption>\n",
    " <p></p> \n",
    " <p style=\"text-align: center;\"> Your output should look something like this (above)</p> \n",
    " </figcaption>\n",
    "</figure>\n",
    " <p></p> \n"
   ]
  },
  {
   "cell_type": "code",
   "execution_count": null,
   "metadata": {
    "collapsed": true,
    "deletable": true,
    "editable": true
   },
   "outputs": [],
   "source": [
    "### Visualize your network's feature maps here.\n",
    "### Feel free to use as many code cells as needed.\n",
    "\n",
    "# image_input: the test image being fed into the network to produce the feature maps\n",
    "# tf_activation: should be a tf variable name used during your training procedure that represents the calculated state of a specific weight layer\n",
    "# activation_min/max: can be used to view the activation contrast in more detail, by default matplot sets min and max to the actual min and max values of the output\n",
    "# plt_num: used to plot out multiple different weight feature map sets on the same block, just extend the plt number for each new feature map entry\n",
    "\n",
    "def outputFeatureMap(image_input, tf_activation, activation_min=-1, activation_max=-1 ,plt_num=1):\n",
    "    # Here make sure to preprocess your image_input in a way your network expects\n",
    "    # with size, normalization, ect if needed\n",
    "    # image_input =\n",
    "    # Note: x should be the same name as your network's tensorflow data placeholder variable\n",
    "    # If you get an error tf_activation is not defined it maybe having trouble accessing the variable from inside a function\n",
    "    activation = tf_activation.eval(session=sess,feed_dict={x : image_input})\n",
    "    featuremaps = activation.shape[3]\n",
    "    plt.figure(plt_num, figsize=(15,15))\n",
    "    for featuremap in range(featuremaps):\n",
    "        plt.subplot(6,8, featuremap+1) # sets the number of feature maps to show on each row and column\n",
    "        plt.title('FeatureMap ' + str(featuremap)) # displays the feature map number\n",
    "        if activation_min != -1 & activation_max != -1:\n",
    "            plt.imshow(activation[0,:,:, featuremap], interpolation=\"nearest\", vmin =activation_min, vmax=activation_max, cmap=\"gray\")\n",
    "        elif activation_max != -1:\n",
    "            plt.imshow(activation[0,:,:, featuremap], interpolation=\"nearest\", vmax=activation_max, cmap=\"gray\")\n",
    "        elif activation_min !=-1:\n",
    "            plt.imshow(activation[0,:,:, featuremap], interpolation=\"nearest\", vmin=activation_min, cmap=\"gray\")\n",
    "        else:\n",
    "            plt.imshow(activation[0,:,:, featuremap], interpolation=\"nearest\", cmap=\"gray\")"
   ]
  },
  {
   "cell_type": "markdown",
   "metadata": {
    "deletable": true,
    "editable": true
   },
   "source": [
    "### Question 9\n",
    "\n",
    "Discuss how you used the visual output of your trained network's feature maps to show that it had learned to look for interesting characteristics in traffic sign images\n"
   ]
  },
  {
   "cell_type": "markdown",
   "metadata": {
    "deletable": true,
    "editable": true
   },
   "source": [
    "**Answer:**"
   ]
  },
  {
   "cell_type": "markdown",
   "metadata": {
    "deletable": true,
    "editable": true
   },
   "source": [
    "> **Note**: Once you have completed all of the code implementations and successfully answered each question above, you may finalize your work by exporting the iPython Notebook as an HTML document. You can do this by using the menu above and navigating to  \\n\",\n",
    "    \"**File -> Download as -> HTML (.html)**. Include the finished document along with this notebook as your submission."
   ]
  },
  {
   "cell_type": "markdown",
   "metadata": {
    "deletable": true,
    "editable": true
   },
   "source": [
    "### Project Writeup\n",
    "\n",
    "Once you have completed the code implementation, document your results in a project writeup using this [template](https://github.com/udacity/CarND-Traffic-Sign-Classifier-Project/blob/master/writeup_template.md) as a guide. The writeup can be in a markdown or pdf file. "
   ]
  }
 ],
 "metadata": {
  "anaconda-cloud": {},
  "kernelspec": {
   "display_name": "Python 3",
   "language": "python",
   "name": "python3"
  },
  "language_info": {
   "codemirror_mode": {
    "name": "ipython",
    "version": 3
   },
   "file_extension": ".py",
   "mimetype": "text/x-python",
   "name": "python",
   "nbconvert_exporter": "python",
   "pygments_lexer": "ipython3",
   "version": "3.5.2"
  },
  "widgets": {
   "state": {},
   "version": "1.1.2"
  }
 },
 "nbformat": 4,
 "nbformat_minor": 1
}
